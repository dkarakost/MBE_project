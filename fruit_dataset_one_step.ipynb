{
  "cells": [
    {
      "cell_type": "markdown",
      "metadata": {
        "id": "view-in-github",
        "colab_type": "text"
      },
      "source": [
        "<a href=\"https://colab.research.google.com/github/dkarakost/MBE_project/blob/main/fruit_dataset_one_step.ipynb\" target=\"_parent\"><img src=\"https://colab.research.google.com/assets/colab-badge.svg\" alt=\"Open In Colab\"/></a>"
      ]
    },
    {
      "cell_type": "code",
      "execution_count": null,
      "metadata": {
        "id": "ke3trKY329OE"
      },
      "outputs": [],
      "source": [
        "# !pip install d2l==1.0.3\n",
        "# !pip install opencv-python\n",
        "# !pip install scikit-learn"
      ]
    },
    {
      "cell_type": "code",
      "execution_count": 1,
      "metadata": {
        "colab": {
          "base_uri": "https://localhost:8080/"
        },
        "id": "MQ_96a2rmbkg",
        "outputId": "fa612a29-b5a9-4da0-851c-f83ab6a88282"
      },
      "outputs": [
        {
          "output_type": "stream",
          "name": "stdout",
          "text": [
            "\u001b[2K     \u001b[90m━━━━━━━━━━━━━━━━━━━━━━━━━━━━━━━━━━━━━━━\u001b[0m \u001b[32m908.3/908.3 MB\u001b[0m \u001b[31m2.0 MB/s\u001b[0m eta \u001b[36m0:00:00\u001b[0m\n",
            "\u001b[2K     \u001b[90m━━━━━━━━━━━━━━━━━━━━━━━━━━━━━━━━━━━━━━━━\u001b[0m \u001b[32m7.3/7.3 MB\u001b[0m \u001b[31m75.2 MB/s\u001b[0m eta \u001b[36m0:00:00\u001b[0m\n",
            "\u001b[2K     \u001b[90m━━━━━━━━━━━━━━━━━━━━━━━━━━━━━━━━━━━━━━━━\u001b[0m \u001b[32m3.4/3.4 MB\u001b[0m \u001b[31m52.6 MB/s\u001b[0m eta \u001b[36m0:00:00\u001b[0m\n",
            "\u001b[2K     \u001b[90m━━━━━━━━━━━━━━━━━━━━━━━━━━━━━━━━━━━━━━━━\u001b[0m \u001b[32m24.6/24.6 MB\u001b[0m \u001b[31m57.8 MB/s\u001b[0m eta \u001b[36m0:00:00\u001b[0m\n",
            "\u001b[2K     \u001b[90m━━━━━━━━━━━━━━━━━━━━━━━━━━━━━━━━━━━━━━\u001b[0m \u001b[32m883.7/883.7 kB\u001b[0m \u001b[31m38.0 MB/s\u001b[0m eta \u001b[36m0:00:00\u001b[0m\n",
            "\u001b[2K     \u001b[90m━━━━━━━━━━━━━━━━━━━━━━━━━━━━━━━━━━━━━━━━\u001b[0m \u001b[32m13.8/13.8 MB\u001b[0m \u001b[31m92.9 MB/s\u001b[0m eta \u001b[36m0:00:00\u001b[0m\n",
            "\u001b[2K     \u001b[90m━━━━━━━━━━━━━━━━━━━━━━━━━━━━━━━━━━━━━━━\u001b[0m \u001b[32m664.8/664.8 MB\u001b[0m \u001b[31m1.2 MB/s\u001b[0m eta \u001b[36m0:00:00\u001b[0m\n",
            "\u001b[2K     \u001b[90m━━━━━━━━━━━━━━━━━━━━━━━━━━━━━━━━━━━━━━━\u001b[0m \u001b[32m363.4/363.4 MB\u001b[0m \u001b[31m4.2 MB/s\u001b[0m eta \u001b[36m0:00:00\u001b[0m\n",
            "\u001b[2K     \u001b[90m━━━━━━━━━━━━━━━━━━━━━━━━━━━━━━━━━━━━━━━\u001b[0m \u001b[32m211.5/211.5 MB\u001b[0m \u001b[31m6.0 MB/s\u001b[0m eta \u001b[36m0:00:00\u001b[0m\n",
            "\u001b[2K     \u001b[90m━━━━━━━━━━━━━━━━━━━━━━━━━━━━━━━━━━━━━━━━\u001b[0m \u001b[32m56.3/56.3 MB\u001b[0m \u001b[31m12.9 MB/s\u001b[0m eta \u001b[36m0:00:00\u001b[0m\n",
            "\u001b[2K     \u001b[90m━━━━━━━━━━━━━━━━━━━━━━━━━━━━━━━━━━━━━━━\u001b[0m \u001b[32m127.9/127.9 MB\u001b[0m \u001b[31m7.3 MB/s\u001b[0m eta \u001b[36m0:00:00\u001b[0m\n",
            "\u001b[2K     \u001b[90m━━━━━━━━━━━━━━━━━━━━━━━━━━━━━━━━━━━━━━━\u001b[0m \u001b[32m207.5/207.5 MB\u001b[0m \u001b[31m6.4 MB/s\u001b[0m eta \u001b[36m0:00:00\u001b[0m\n",
            "\u001b[2K     \u001b[90m━━━━━━━━━━━━━━━━━━━━━━━━━━━━━━━━━━━━━━━━\u001b[0m \u001b[32m21.1/21.1 MB\u001b[0m \u001b[31m82.6 MB/s\u001b[0m eta \u001b[36m0:00:00\u001b[0m\n",
            "\u001b[2K     \u001b[90m━━━━━━━━━━━━━━━━━━━━━━━━━━━━━━━━━━━━━━━\u001b[0m \u001b[32m209.5/209.5 MB\u001b[0m \u001b[31m6.3 MB/s\u001b[0m eta \u001b[36m0:00:00\u001b[0m\n",
            "\u001b[?25hPyTorch version updated to 2.5.1.\n"
          ]
        }
      ],
      "source": [
        "import torch\n",
        "\n",
        "if torch.__version__ != '2.5.1+cu124':\n",
        "    !pip install torch==2.5.1+cu124 torchvision==0.20.1+cu124 torchaudio==2.5.1 --index-url https://download.pytorch.org/whl/cu124 -U --quiet\n",
        "    print(\"PyTorch version updated to 2.5.1.\")\n",
        "else:\n",
        "    print(\"PyTorch is already at the correct version (2.5.1).\")"
      ]
    },
    {
      "cell_type": "code",
      "source": [
        "!pip install d2l==1.0.3 --quiet\n",
        "!pip install scipy --quiet\n",
        "!pip install torchmetrics --quiet\n"
      ],
      "metadata": {
        "colab": {
          "base_uri": "https://localhost:8080/"
        },
        "id": "PhD7Cc0ICv-F",
        "outputId": "806ffa09-0e63-46a1-da0d-578b7b4ff0d8"
      },
      "execution_count": 2,
      "outputs": [
        {
          "output_type": "stream",
          "name": "stdout",
          "text": [
            "\u001b[2K     \u001b[90m━━━━━━━━━━━━━━━━━━━━━━━━━━━━━━━━━━━━━━━━\u001b[0m \u001b[32m58.9/58.9 kB\u001b[0m \u001b[31m2.1 MB/s\u001b[0m eta \u001b[36m0:00:00\u001b[0m\n",
            "\u001b[2K   \u001b[90m━━━━━━━━━━━━━━━━━━━━━━━━━━━━━━━━━━━━━━━━\u001b[0m \u001b[32m111.7/111.7 kB\u001b[0m \u001b[31m4.2 MB/s\u001b[0m eta \u001b[36m0:00:00\u001b[0m\n",
            "\u001b[2K   \u001b[90m━━━━━━━━━━━━━━━━━━━━━━━━━━━━━━━━━━━━━━━━\u001b[0m \u001b[32m11.6/11.6 MB\u001b[0m \u001b[31m94.0 MB/s\u001b[0m eta \u001b[36m0:00:00\u001b[0m\n",
            "\u001b[2K   \u001b[90m━━━━━━━━━━━━━━━━━━━━━━━━━━━━━━━━━━━━━━━━\u001b[0m \u001b[32m17.1/17.1 MB\u001b[0m \u001b[31m86.5 MB/s\u001b[0m eta \u001b[36m0:00:00\u001b[0m\n",
            "\u001b[2K   \u001b[90m━━━━━━━━━━━━━━━━━━━━━━━━━━━━━━━━━━━━━━━━\u001b[0m \u001b[32m12.2/12.2 MB\u001b[0m \u001b[31m101.4 MB/s\u001b[0m eta \u001b[36m0:00:00\u001b[0m\n",
            "\u001b[2K   \u001b[90m━━━━━━━━━━━━━━━━━━━━━━━━━━━━━━━━━━━━━━━━\u001b[0m \u001b[32m62.6/62.6 kB\u001b[0m \u001b[31m4.2 MB/s\u001b[0m eta \u001b[36m0:00:00\u001b[0m\n",
            "\u001b[2K   \u001b[90m━━━━━━━━━━━━━━━━━━━━━━━━━━━━━━━━━━━━━━━━\u001b[0m \u001b[32m34.1/34.1 MB\u001b[0m \u001b[31m12.8 MB/s\u001b[0m eta \u001b[36m0:00:00\u001b[0m\n",
            "\u001b[2K   \u001b[90m━━━━━━━━━━━━━━━━━━━━━━━━━━━━━━━━━━━━━━━━\u001b[0m \u001b[32m98.3/98.3 kB\u001b[0m \u001b[31m5.8 MB/s\u001b[0m eta \u001b[36m0:00:00\u001b[0m\n",
            "\u001b[2K   \u001b[90m━━━━━━━━━━━━━━━━━━━━━━━━━━━━━━━━━━━━━━━━\u001b[0m \u001b[32m125.0/125.0 kB\u001b[0m \u001b[31m8.6 MB/s\u001b[0m eta \u001b[36m0:00:00\u001b[0m\n",
            "\u001b[2K   \u001b[90m━━━━━━━━━━━━━━━━━━━━━━━━━━━━━━━━━━━━━━━━\u001b[0m \u001b[32m95.0/95.0 kB\u001b[0m \u001b[31m6.6 MB/s\u001b[0m eta \u001b[36m0:00:00\u001b[0m\n",
            "\u001b[2K   \u001b[90m━━━━━━━━━━━━━━━━━━━━━━━━━━━━━━━━━━━━━━━━\u001b[0m \u001b[32m1.6/1.6 MB\u001b[0m \u001b[31m56.5 MB/s\u001b[0m eta \u001b[36m0:00:00\u001b[0m\n",
            "\u001b[?25h\u001b[31mERROR: pip's dependency resolver does not currently take into account all the packages that are installed. This behaviour is the source of the following dependency conflicts.\n",
            "google-colab 1.0.0 requires pandas==2.2.2, but you have pandas 2.0.3 which is incompatible.\n",
            "google-colab 1.0.0 requires requests==2.32.3, but you have requests 2.31.0 which is incompatible.\n",
            "imbalanced-learn 0.13.0 requires numpy<3,>=1.24.3, but you have numpy 1.23.5 which is incompatible.\n",
            "cvxpy 1.6.5 requires scipy>=1.11.0, but you have scipy 1.10.1 which is incompatible.\n",
            "xarray 2025.1.2 requires numpy>=1.24, but you have numpy 1.23.5 which is incompatible.\n",
            "xarray 2025.1.2 requires pandas>=2.1, but you have pandas 2.0.3 which is incompatible.\n",
            "jaxlib 0.5.1 requires numpy>=1.25, but you have numpy 1.23.5 which is incompatible.\n",
            "jaxlib 0.5.1 requires scipy>=1.11.1, but you have scipy 1.10.1 which is incompatible.\n",
            "plotnine 0.14.5 requires matplotlib>=3.8.0, but you have matplotlib 3.7.2 which is incompatible.\n",
            "plotnine 0.14.5 requires pandas>=2.2.0, but you have pandas 2.0.3 which is incompatible.\n",
            "pymc 5.21.2 requires numpy>=1.25.0, but you have numpy 1.23.5 which is incompatible.\n",
            "bigframes 1.42.0 requires numpy>=1.24.0, but you have numpy 1.23.5 which is incompatible.\n",
            "blosc2 3.3.0 requires numpy>=1.26, but you have numpy 1.23.5 which is incompatible.\n",
            "mizani 0.13.3 requires pandas>=2.2.0, but you have pandas 2.0.3 which is incompatible.\n",
            "albucore 0.0.23 requires numpy>=1.24.4, but you have numpy 1.23.5 which is incompatible.\n",
            "tensorflow 2.18.0 requires numpy<2.1.0,>=1.26.0, but you have numpy 1.23.5 which is incompatible.\n",
            "scikit-image 0.25.2 requires numpy>=1.24, but you have numpy 1.23.5 which is incompatible.\n",
            "scikit-image 0.25.2 requires scipy>=1.11.4, but you have scipy 1.10.1 which is incompatible.\n",
            "jax 0.5.2 requires numpy>=1.25, but you have numpy 1.23.5 which is incompatible.\n",
            "jax 0.5.2 requires scipy>=1.11.1, but you have scipy 1.10.1 which is incompatible.\n",
            "thinc 8.3.6 requires numpy<3.0.0,>=2.0.0, but you have numpy 1.23.5 which is incompatible.\n",
            "albumentations 2.0.5 requires numpy>=1.24.4, but you have numpy 1.23.5 which is incompatible.\n",
            "treescope 0.1.9 requires numpy>=1.25.2, but you have numpy 1.23.5 which is incompatible.\n",
            "chex 0.1.89 requires numpy>=1.24.1, but you have numpy 1.23.5 which is incompatible.\u001b[0m\u001b[31m\n",
            "\u001b[2K   \u001b[90m━━━━━━━━━━━━━━━━━━━━━━━━━━━━━━━━━━━━━━━━\u001b[0m \u001b[32m961.5/961.5 kB\u001b[0m \u001b[31m14.5 MB/s\u001b[0m eta \u001b[36m0:00:00\u001b[0m\n",
            "\u001b[?25h"
          ]
        }
      ]
    },
    {
      "cell_type": "code",
      "execution_count": 1,
      "metadata": {
        "id": "uIyvpZbsCVMj"
      },
      "outputs": [],
      "source": [
        "%matplotlib inline\n",
        "from d2l import torch as d2l\n",
        "import torch\n",
        "import torchvision\n",
        "from torchvision.transforms import ToPILImage\n",
        "from torch import nn\n",
        "from torch.nn import functional as F\n",
        "from PIL import ImageFile, Image\n",
        "# ImageFile.LOAD_TRUNCATED_IMAGES = True\n",
        "import matplotlib.pyplot as plt\n",
        "\n",
        "import random\n",
        "import cv2\n",
        "from torchvision.transforms.v2 import (\n",
        "    ToImage, ToDtype, RandomPhotometricDistort,\n",
        "    RandomIoUCrop, RandomHorizontalFlip, Resize\n",
        ")\n",
        "from torchvision.tv_tensors import BoundingBoxes\n",
        "from torchvision.transforms.v2.functional import to_image\n",
        "from object_detection_utils import *\n",
        "import json\n",
        "import os\n",
        "import numpy as np\n",
        "import cv2"
      ]
    },
    {
      "cell_type": "markdown",
      "metadata": {
        "id": "gnMSQyng3WZz"
      },
      "source": [
        "# Download the dataset\n",
        "First, let's download the dataset. It consists of images of plant, bounding box annotations, and leaf counts annotations."
      ]
    },
    {
      "cell_type": "code",
      "execution_count": 2,
      "metadata": {
        "id": "jCI1N4a-20hj",
        "colab": {
          "base_uri": "https://localhost:8080/"
        },
        "outputId": "209eaa40-0bcc-46a0-cd87-7fb140d229ba"
      },
      "outputs": [
        {
          "output_type": "stream",
          "name": "stdout",
          "text": [
            "fatal: destination path 'fruit-detection-challenge' already exists and is not an empty directory.\n"
          ]
        }
      ],
      "source": [
        "!git clone https://git.wur.nl/abe-datasets/education/fruit-detection-challenge.git"
      ]
    },
    {
      "cell_type": "markdown",
      "metadata": {
        "id": "hemjFB873q4Q"
      },
      "source": [
        "Let's have a look at one image."
      ]
    },
    {
      "cell_type": "code",
      "execution_count": 3,
      "metadata": {
        "id": "NvRgFdLf3uWB"
      },
      "outputs": [],
      "source": [
        "# image = Image.open('leaf-dataset/detection/ara2012_plant001_rgb.png')\n",
        "# plt.imshow(image)"
      ]
    },
    {
      "cell_type": "code",
      "execution_count": 4,
      "metadata": {
        "id": "q13yZN5kCVMl"
      },
      "outputs": [],
      "source": [
        "# image.size"
      ]
    },
    {
      "cell_type": "markdown",
      "metadata": {
        "id": "NvbG79sc5jxc"
      },
      "source": [
        "# The `Dataset` class\n",
        "Now, let's create a dataset customized to our data.\n",
        "We will call it `LeafDetectionDataset`.\n",
        "* The constructor of the dataset (`__init__`) takes the root folder of the data, and finds the (sorted) path of all the images and bounding box annotations.\n",
        "Lastly, it also has a `classes` variable. In our case, we only have one class: leaf.\n",
        "* The `__get_item__` function gets the next image at index `idx` as well as the ground-truth bounding boxes."
      ]
    },
    {
      "cell_type": "code",
      "execution_count": 5,
      "metadata": {
        "id": "tpbTQUxe3Nev"
      },
      "outputs": [],
      "source": [
        "\n",
        "class FruitDetectionDataset(torch.utils.data.Dataset):\n",
        "    def __init__(self, json_path, img_folder, img_size, transforms=None):\n",
        "        \"\"\"\n",
        "        Constructor of the FruitDetectionDataset\n",
        "        :param json_path: Path to the COCO JSON file\n",
        "        :param img_folder: Folder containing the images\n",
        "        :param img_size: Size to resize the images\n",
        "        :param transforms: List of transformations to be applied to the data\n",
        "        \"\"\"\n",
        "        self.img_folder = img_folder\n",
        "        self.transforms = transforms\n",
        "        self.resize = ResizeWithBBox(img_size)\n",
        "\n",
        "        # Load the COCO JSON file\n",
        "        with open(json_path, 'r') as f:\n",
        "            coco_data = json.load(f)\n",
        "\n",
        "        # Extract image info and annotations\n",
        "        self.images = coco_data['images']\n",
        "        self.annotations = coco_data['annotations']\n",
        "        self.categories = coco_data['categories']\n",
        "\n",
        "        # Create a mapping from category ID to category index\n",
        "        self.category_id_to_index = {category['id']: idx for idx, category in enumerate(self.categories)}\n",
        "\n",
        "        # Create a mapping from image ID to annotations\n",
        "        self.img_id_to_annotations = {}\n",
        "        for annotation in self.annotations:\n",
        "            img_id = annotation['image_id']\n",
        "            if img_id not in self.img_id_to_annotations:\n",
        "                self.img_id_to_annotations[img_id] = []\n",
        "            self.img_id_to_annotations[img_id].append(annotation)\n",
        "\n",
        "        # Create a list of image paths\n",
        "        self.img_files = [os.path.join(img_folder, img['file_name']) for img in self.images]\n",
        "\n",
        "    def __getitem__(self, idx):\n",
        "        # Get image path and annotations\n",
        "        img_info = self.images[idx]\n",
        "        img_filename = img_info['file_name']\n",
        "        img_path = os.path.join(self.img_folder, img_filename)\n",
        "        img_id = img_info['id']\n",
        "\n",
        "        annotations = self.img_id_to_annotations.get(img_id, [])\n",
        "\n",
        "        # Load image\n",
        "        #img = cv2.imread(img_path)\n",
        "        #img = cv2.cvtColor(img, cv2.COLOR_BGR2RGB)\n",
        "        #img = Image.fromarray(img)\n",
        "        img = Image.open(img_path).convert(\"RGB\")\n",
        "        orig_w, orig_h = img.size\n",
        "        # Extract bounding boxes and labels\n",
        "        boxes = []\n",
        "        labels = []\n",
        "        for annotation in annotations:\n",
        "            x, y, w, h = annotation['bbox']\n",
        "            x1, y1 = x, y\n",
        "            x2, y2 = x + w, y + h\n",
        "            boxes.append([x1, y1, x2, y2])\n",
        "            labels.append(self.category_id_to_index[annotation['category_id']])\n",
        "        boxes = torch.tensor(boxes, dtype=torch.float32)\n",
        "        labels = torch.tensor(labels, dtype=torch.int64)\n",
        "\n",
        "        if len(boxes.shape) == 1:\n",
        "            boxes = boxes.unsqueeze(0)\n",
        "\n",
        "        # Resize image and boxes\n",
        "        #img, boxes = self.resize(image=img, boxes=boxes)\n",
        "        #boxes = box_xyxy_to_cxcywh(box_xywh_to_xyxy(torch.tensor(boxes, dtype=torch.float32)))\n",
        "\n",
        "\n",
        "\n",
        "         #Add illegal boxes if needed\n",
        "        illegal_needed = 50 - len(boxes)\n",
        "        illegal_labels = torch.ones((illegal_needed,), dtype=torch.int64) * -1\n",
        "        illegal_boxes = torch.zeros((illegal_needed, 4), dtype=torch.float32) * -1\n",
        "        boxes = torch.cat([boxes, illegal_boxes], dim=0)\n",
        "        labels = torch.cat([labels, illegal_labels], dim=0)\n",
        "\n",
        "        boxes = BoundingBoxes(boxes, format=\"XYXY\", canvas_size=(orig_h, orig_w))\n",
        "        image = to_image(img)\n",
        "\n",
        "\n",
        "        target = {\n",
        "            \"boxes\": boxes,\n",
        "            \"labels\": labels,\n",
        "            \"image_id\": torch.tensor([img_id])\n",
        "        }\n",
        "        # Apply transforms\n",
        "        if self.transforms:\n",
        "         image, target = self.transforms((image, target))\n",
        "        return image, target\n",
        "\n",
        "\n",
        "    def __len__(self):\n",
        "        return len(self.img_files)\n",
        "\n",
        "def collate_fn(batch):\n",
        "    images = torch.stack([item[0] for item in batch])  # Assuming image is first\n",
        "\n",
        "\n",
        "    targets = [item[1] for item in batch]\n",
        "\n",
        "    return images, targets"
      ]
    },
    {
      "cell_type": "markdown",
      "metadata": {
        "id": "u79Feem38D6w"
      },
      "source": [
        "Now that we created our custom `Dataset` class, let's create a train a validation dataset"
      ]
    },
    {
      "cell_type": "code",
      "source": [
        "train_transforms = torchvision.transforms.v2.Compose([\n",
        "    ToImage(),\n",
        "    ToDtype(torch.float32, scale=True),  # Converts to float + scales to [0,1]\n",
        "    RandomPhotometricDistort(),          # Brightness, contrast, etc.\n",
        "    RandomIoUCrop(min_scale=0.3),        # Random crop w/ bbox-aware logic\n",
        "    RandomHorizontalFlip(p=0.5),         # Flips image + boxes\n",
        "    Resize((512, 512), antialias=True),  # Resize at the end\n",
        "])"
      ],
      "metadata": {
        "id": "_kotDZHu2VeV"
      },
      "execution_count": 6,
      "outputs": []
    },
    {
      "cell_type": "code",
      "source": [
        "val_transforms = torchvision.transforms.v2.Compose([\n",
        "    ToImage(),\n",
        "    ToDtype(torch.float32, scale=True),  # Converts to float + scales to [0,1]\n",
        "\n",
        "])"
      ],
      "metadata": {
        "id": "GJGrahWGGLWp"
      },
      "execution_count": 7,
      "outputs": []
    },
    {
      "cell_type": "code",
      "source": [
        "Trainjson_path=\"fruit-detection-challenge/detection/annotations/train.json\"\n",
        "Valjson_path=\"fruit-detection-challenge/detection/annotations/val.json\"\n",
        "train_folder=\"fruit-detection-challenge/detection/train/\"\n",
        "val_folder=\"fruit-detection-challenge/detection/val/\"\n",
        "image_size=256\n",
        "batch_size=4\n",
        "#transform\n",
        "#augs = torchvision.transforms.Compose([torchvision.transforms.ToTensor()])\n",
        "#trainig set\n",
        "training_set=FruitDetectionDataset(Trainjson_path,train_folder,img_size=(image_size, image_size),transforms=train_transforms)\n",
        "#Training set loader\n",
        "train_loader = torch.utils.data.DataLoader(training_set, batch_size=batch_size, shuffle=True, num_workers=2,collate_fn=collate_fn)\n",
        "#validation set\n",
        "val_set=FruitDetectionDataset(Valjson_path,val_folder,img_size=(image_size, image_size),transforms=val_transforms)\n",
        "val_loader=torch.utils.data.DataLoader(val_set, batch_size=batch_size, shuffle=True, num_workers=2,collate_fn=collate_fn)"
      ],
      "metadata": {
        "id": "HgcFSoyJ-b3A"
      },
      "execution_count": 8,
      "outputs": []
    },
    {
      "cell_type": "markdown",
      "metadata": {
        "id": "o011hXj_CVMn"
      },
      "source": [
        "## Recomendations\n",
        "This is a small dataset with roughly 100 images. The images present a low resolution and a big number of small objects. It's going to be a challenge for our simple Object Detection model. Don't be surprised if the average precision that you get oscilates between 0.2 and 0.3.\n",
        "\n",
        "Things to try for better performance:\n",
        "- Increase the resolution of the images. This also helps in the amount of objects that our detector can predict.\n",
        "- Use data augmentations.\n",
        "- Try different backbones/encoders.\n",
        "- Freeze the backbone/encoder so its weights are not trained. This is useful when dealing with small datasets. You can use the following code for it:\n",
        "    ```python\n",
        "    backbone = models.resnet50(pretrained=pretrained)\n",
        "    for param in backbone.parameters():\n",
        "        param.requires_grad = False\n",
        "    ```\n",
        "- We have a lot of overlapping objects. Therefore, be aware of the Non-Maximum suppression threshold that you use for both calculating the AP and making predictions.\n",
        "    - You can change the NMS threshold while calculating the AP during training like this: `ap = ap_calculator.calculate_map(model, nms_threshold=0.5)`\n",
        "    - And for predictions like this: `boxes, top_class, scores = predict(model, img, n_classes=1, nms_threshold=0.3)`\n",
        "    "
      ]
    },
    {
      "cell_type": "code",
      "execution_count": 9,
      "metadata": {
        "id": "f9pqhSpgCVMo"
      },
      "outputs": [],
      "source": [
        "import torch\n",
        "import torch.nn as nn\n",
        "import torchvision.models as models\n",
        "\n",
        "class PredictionHead(nn.Module):\n",
        "    def __init__(self, in_channels, num_classes):\n",
        "        super(PredictionHead, self).__init__()\n",
        "\n",
        "        self.conv_layers = nn.Sequential(\n",
        "            nn.Conv2d(in_channels, in_channels // 2, kernel_size=3, stride=2, padding=1),\n",
        "            nn.BatchNorm2d(in_channels // 2),\n",
        "            nn.LeakyReLU(negative_slope=0.1),\n",
        "            nn.Conv2d(in_channels // 2, in_channels // 4, kernel_size=3, stride=1, padding=1),\n",
        "            nn.BatchNorm2d(in_channels // 4),\n",
        "            nn.LeakyReLU(negative_slope=0.1),\n",
        "            nn.Conv2d(in_channels // 4, in_channels // 4, kernel_size=1),\n",
        "            nn.BatchNorm2d(in_channels // 4),\n",
        "            nn.LeakyReLU(negative_slope=0.1),\n",
        "        )\n",
        "\n",
        "        self.box_predictor = nn.Sequential(\n",
        "            nn.Conv2d(in_channels=in_channels // 4, out_channels=in_channels // 4, kernel_size=(3, 3), stride=(1, 1), padding=1),\n",
        "            nn.BatchNorm2d(in_channels // 4),\n",
        "            nn.LeakyReLU(negative_slope=0.1),\n",
        "            nn.Conv2d(in_channels=in_channels // 4, out_channels=4, kernel_size=(3, 3), stride=(1, 1), padding=1),\n",
        "            nn.Sigmoid(),\n",
        "        )\n",
        "\n",
        "        # Classifier\n",
        "        self.classifier = nn.Sequential(\n",
        "            nn.Conv2d(in_channels=in_channels // 4, out_channels=in_channels // 4, kernel_size=(3, 3), stride=(1, 1), padding=1),\n",
        "            nn.BatchNorm2d(in_channels // 4),\n",
        "            nn.LeakyReLU(negative_slope=0.1),\n",
        "            nn.Conv2d(in_channels=in_channels // 4, out_channels=num_classes, kernel_size=(3, 3), stride=(1, 1), padding=1),\n",
        "        )\n",
        "\n",
        "        # Objectness score predictor\n",
        "        self.objectness_predictor = nn.Sequential(\n",
        "            nn.Conv2d(in_channels=in_channels // 4, out_channels=in_channels // 4, kernel_size=(3, 3), stride=(1, 1), padding=1),\n",
        "            nn.BatchNorm2d(in_channels // 4),\n",
        "            nn.LeakyReLU(negative_slope=0.1),\n",
        "            nn.Conv2d(in_channels=in_channels // 4, out_channels=1, kernel_size=(3, 3), stride=(1, 1), padding=1),\n",
        "            nn.Sigmoid(),\n",
        "        )\n",
        "\n",
        "    def forward(self, x):\n",
        "        x = self.conv_layers(x)\n",
        "        cls_logits = self.classifier(x)\n",
        "        bbox_pred = self.box_predictor(x)\n",
        "        objectness_pred = self.objectness_predictor(x)\n",
        "\n",
        "        # Add relative grid position to the cx and cy predictions of each box\n",
        "        grid_size = x.shape[-1]\n",
        "        grid_y, grid_x = torch.meshgrid(\n",
        "            torch.arange(grid_size, device=x.device), torch.arange(grid_size, device=x.device), indexing=\"ij\"\n",
        "        )\n",
        "        cx = bbox_pred[:, 0, :, :]\n",
        "        cy = bbox_pred[:, 1, :, :]\n",
        "        w = bbox_pred[:, 2, :, :]\n",
        "        h = bbox_pred[:, 3, :, :]\n",
        "        cx = (cx + (grid_x)) / grid_size\n",
        "        cy = (cy + (grid_y)) / grid_size\n",
        "        bbox_pred = torch.stack([cx, cy, w, h], dim=1)\n",
        "\n",
        "        return cls_logits, bbox_pred, objectness_pred\n",
        "\n",
        "class ObjectDetectorMultiScale(nn.Module):\n",
        "    def __init__(self, n_classes, pretrained=True):\n",
        "        super(ObjectDetectorMultiScale, self).__init__()\n",
        "\n",
        "        # We add the background class\n",
        "        self.n_classes = n_classes\n",
        "\n",
        "        # Backbone\n",
        "        backbone = models.resnet50(pretrained=pretrained)\n",
        "        #Freeze early layers\n",
        "        for name, param in backbone.named_parameters():\n",
        "            if name.startswith(\"conv1\") or name.startswith(\"bn1\") or name.startswith(\"layer1\"):\n",
        "                param.requires_grad = False\n",
        "\n",
        "        self.backbone = nn.Sequential(*list(backbone.children())[:-3])\n",
        "\n",
        "        # Layer 1\n",
        "        self.block_1 = nn.Sequential(*list(backbone.children())[-3])\n",
        "        self.down_1 = nn.Conv2d(2048, 512, kernel_size=1)   # for y_\n",
        "        self.down_2 = nn.Conv2d(1024, 256, kernel_size=1)   # for features\n",
        "        self.prediction_head = PredictionHead(512, self.n_classes)\n",
        "        self.prediction_head_2 = PredictionHead(256, self.n_classes)\n",
        "\n",
        "    def forward(self, x):\n",
        "        features = self.backbone(x)\n",
        "        y_ = self.block_1(features)\n",
        "        y_ = self.down_1(y_)                      # [B, 512, H/32, W/32]\n",
        "        features = self.down_2(features)          # [B, 256, H/16, W/16]\n",
        "\n",
        "        cls_logits, bbox_pred, objectness_pred = self.prediction_head(y_)\n",
        "        cls_preds = cls_logits.flatten(2, 3).permute(0, 2, 1)\n",
        "        box_preds = bbox_pred.flatten(2, 3).permute(0, 2, 1)\n",
        "        obj_preds = objectness_pred.flatten(2, 3).permute(0, 2, 1)\n",
        "\n",
        "        cls_logits2, bbox_pred2, objectness_pred2 = self.prediction_head_2(features)\n",
        "        cls_preds2 = cls_logits2.flatten(2, 3).permute(0, 2, 1)\n",
        "        box_preds2 = bbox_pred2.flatten(2, 3).permute(0, 2, 1)\n",
        "        obj_preds2 = objectness_pred2.flatten(2, 3).permute(0, 2, 1)\n",
        "\n",
        "        # Concatenate predictions from all heads\n",
        "        pred_logits = torch.cat([cls_preds, cls_preds2], dim=1)\n",
        "        pred_boxes = torch.cat([box_preds, box_preds2], dim=1)\n",
        "        pred_objectness = torch.cat([obj_preds, obj_preds2], dim=1)\n",
        "\n",
        "        return {\"pred_logits\": pred_logits, \"pred_boxes\": pred_boxes, \"pred_objectness\": pred_objectness}"
      ]
    },
    {
      "cell_type": "code",
      "execution_count": 10,
      "metadata": {
        "id": "ACYt7a1CCVMo"
      },
      "outputs": [],
      "source": [
        "import torch\n",
        "import torch.nn.functional as F\n",
        "import torchvision.models as models\n",
        "from object_detection_utils import *\n",
        "\n",
        "def train_model(model, train_loader, val_loader, num_epochs=50, lr=1e-3, weight_decay=1e-4, step_size=20, gamma=0.1):\n",
        "    device = torch.device(\"cuda\" if torch.cuda.is_available() else \"cpu\")\n",
        "    model = model.to(device)\n",
        "    matcher = HungarianMatcher()\n",
        "    optimizer = torch.optim.AdamW(model.parameters(), lr=lr, weight_decay=weight_decay)\n",
        "    scheduler = torch.optim.lr_scheduler.StepLR(optimizer, step_size=step_size, gamma=gamma)\n",
        "    print(\"total num of parameters in the model:\", sum(p.numel() for p in model.parameters()))\n",
        "\n",
        "    timer = d2l.Timer()\n",
        "    animator = d2l.Animator(xlabel=\"epoch\", xlim=[1, num_epochs], legend=[\"class error\", \"L1 error\", \"val AP\"])\n",
        "\n",
        "    ap_calculator = APCalculator(val_loader)\n",
        "\n",
        "    for epoch in range(num_epochs):\n",
        "        metric = d2l.Accumulator(4)\n",
        "        model.train()\n",
        "        for img, targets in train_loader:\n",
        "            timer.start()\n",
        "\n",
        "            img = img.to(device)\n",
        "\n",
        "            # — Unwrap and clean targets —\n",
        "            processed = []\n",
        "            for t in targets:\n",
        "                # t[\"boxes\"] is a BoundingBoxes on CPU\n",
        "                bb: BoundingBoxes = t[\"boxes\"].to(device)\n",
        "                # get raw Tensor [50,4]\n",
        "                boxes = bb.data\n",
        "                labels = t[\"labels\"].to(device)\n",
        "\n",
        "                # filter out the illegal ones (where label == -1)\n",
        "                valid = labels != -1\n",
        "                processed.append({\n",
        "                    \"boxes\":  boxes[valid],\n",
        "                    \"labels\": labels[valid]\n",
        "                })\n",
        "            outputs = model(img)\n",
        "\n",
        "            #num_boxes = sum(len(t[\"labels\"]) for t in new_targets)\n",
        "            #num_boxes = torch.as_tensor([num_boxes], dtype=torch.float, device=next(iter(outputs.values())).device)\n",
        "\n",
        "            src_logits = outputs[\"pred_logits\"]\n",
        "            src_boxes = outputs[\"pred_boxes\"]\n",
        "            src_objectness = outputs[\"pred_objectness\"]\n",
        "\n",
        "            indices = matcher(outputs, processed)  # Run matcher\n",
        "            idx = get_src_permutation_idx(indices)\n",
        "\n",
        "            # Loss class\n",
        "            target_classes_o = torch.cat([\n",
        "                     t[\"labels\"][J] for t, (_, J) in zip(processed, indices)\n",
        "                      ])\n",
        "\n",
        "            target_classes = torch.full(src_logits.shape[:2], -100, dtype=torch.int64, device=device)\n",
        "            target_classes[idx] = target_classes_o\n",
        "            loss_ce = F.cross_entropy(src_logits.transpose(1, 2), target_classes, ignore_index=-100)\n",
        "\n",
        "            # Loss boxes L1 and GIOU\n",
        "            src_boxes = src_boxes[idx]\n",
        "            target_boxes = torch.cat([t[\"boxes\"][i] for t, (_, i) in zip(new_targets, indices)], dim=0)\n",
        "\n",
        "            loss_bbox  = F.l1_loss(src_boxes, target_boxes, reduction=\"mean\")\n",
        "            # Loss objectness\n",
        "            target_objectness = torch.zeros_like(src_objectness, device=device)\n",
        "            target_objectness[idx] = 1\n",
        "            loss_objectness = F.mse_loss(src_objectness, target_objectness, reduction=\"mean\")\n",
        "\n",
        "            # Sum the losses\n",
        "            loss = loss_ce + loss_bbox + loss_objectness\n",
        "\n",
        "            optimizer.zero_grad()\n",
        "            loss.backward()\n",
        "            optimizer.step()\n",
        "\n",
        "            metric.add(\n",
        "                loss_ce.cpu().detach().numpy(),\n",
        "                loss_bbox.cpu().detach().numpy(),\n",
        "                loss_objectness.cpu().detach().numpy(),\n",
        "                img.size()[0],\n",
        "            )\n",
        "        scheduler.step()\n",
        "        cls_err, L1_error, obj_error = metric[0] / metric[3], metric[1] / metric[3], metric[2] / metric[3]\n",
        "        ap = ap_calculator.calculate_map(model, nms_threshold=0.5)\n",
        "        print(ap)\n",
        "        animator.add(epoch + 1, (cls_err, L1_error, ap[\"map_50\"]))\n",
        "    print(f\"{len(train_loader.dataset) / timer.stop():.1f} examples/sec on \" f\"{str(device)}\")\n",
        "\n"
      ]
    },
    {
      "cell_type": "code",
      "source": [
        "\n",
        "model = ObjectDetectorMultiScale(n_classes=4)\n",
        "train_model(model, train_loader, val_loader, num_epochs=40, lr=1e-3, weight_decay=1e-4, step_size=15, gamma=0.1)"
      ],
      "metadata": {
        "colab": {
          "base_uri": "https://localhost:8080/",
          "height": 592
        },
        "id": "ZVwQf-sMsouK",
        "outputId": "5de351af-be09-49e7-a8e7-54514bd4ea40"
      },
      "execution_count": 12,
      "outputs": [
        {
          "output_type": "stream",
          "name": "stdout",
          "text": [
            "total num of parameters in the model: 27255762\n"
          ]
        },
        {
          "output_type": "error",
          "ename": "RuntimeError",
          "evalue": "Found no NVIDIA driver on your system. Please check that you have an NVIDIA GPU and installed a driver from http://www.nvidia.com/Download/index.aspx",
          "traceback": [
            "\u001b[0;31m---------------------------------------------------------------------------\u001b[0m",
            "\u001b[0;31mRuntimeError\u001b[0m                              Traceback (most recent call last)",
            "\u001b[0;32m<ipython-input-12-8debcf105e56>\u001b[0m in \u001b[0;36m<cell line: 0>\u001b[0;34m()\u001b[0m\n\u001b[1;32m      1\u001b[0m \u001b[0mmodel\u001b[0m \u001b[0;34m=\u001b[0m \u001b[0mObjectDetectorMultiScale\u001b[0m\u001b[0;34m(\u001b[0m\u001b[0mn_classes\u001b[0m\u001b[0;34m=\u001b[0m\u001b[0;36m4\u001b[0m\u001b[0;34m)\u001b[0m\u001b[0;34m\u001b[0m\u001b[0;34m\u001b[0m\u001b[0m\n\u001b[0;32m----> 2\u001b[0;31m \u001b[0mtrain_model\u001b[0m\u001b[0;34m(\u001b[0m\u001b[0mmodel\u001b[0m\u001b[0;34m,\u001b[0m \u001b[0mtrain_loader\u001b[0m\u001b[0;34m,\u001b[0m \u001b[0mval_loader\u001b[0m\u001b[0;34m,\u001b[0m \u001b[0mnum_epochs\u001b[0m\u001b[0;34m=\u001b[0m\u001b[0;36m40\u001b[0m\u001b[0;34m,\u001b[0m \u001b[0mlr\u001b[0m\u001b[0;34m=\u001b[0m\u001b[0;36m1e-3\u001b[0m\u001b[0;34m,\u001b[0m \u001b[0mweight_decay\u001b[0m\u001b[0;34m=\u001b[0m\u001b[0;36m1e-4\u001b[0m\u001b[0;34m,\u001b[0m \u001b[0mstep_size\u001b[0m\u001b[0;34m=\u001b[0m\u001b[0;36m15\u001b[0m\u001b[0;34m,\u001b[0m \u001b[0mgamma\u001b[0m\u001b[0;34m=\u001b[0m\u001b[0;36m0.1\u001b[0m\u001b[0;34m)\u001b[0m\u001b[0;34m\u001b[0m\u001b[0;34m\u001b[0m\u001b[0m\n\u001b[0m",
            "\u001b[0;32m<ipython-input-10-ad492ff7ffb7>\u001b[0m in \u001b[0;36mtrain_model\u001b[0;34m(model, train_loader, val_loader, num_epochs, lr, weight_decay, step_size, gamma)\u001b[0m\n\u001b[1;32m     49\u001b[0m             \u001b[0msrc_objectness\u001b[0m \u001b[0;34m=\u001b[0m \u001b[0moutputs\u001b[0m\u001b[0;34m[\u001b[0m\u001b[0;34m\"pred_objectness\"\u001b[0m\u001b[0;34m]\u001b[0m\u001b[0;34m\u001b[0m\u001b[0;34m\u001b[0m\u001b[0m\n\u001b[1;32m     50\u001b[0m \u001b[0;34m\u001b[0m\u001b[0m\n\u001b[0;32m---> 51\u001b[0;31m             \u001b[0mindices\u001b[0m \u001b[0;34m=\u001b[0m \u001b[0mmatcher\u001b[0m\u001b[0;34m(\u001b[0m\u001b[0moutputs\u001b[0m\u001b[0;34m,\u001b[0m \u001b[0mprocessed\u001b[0m\u001b[0;34m)\u001b[0m  \u001b[0;31m# Run matcher\u001b[0m\u001b[0;34m\u001b[0m\u001b[0;34m\u001b[0m\u001b[0m\n\u001b[0m\u001b[1;32m     52\u001b[0m             \u001b[0midx\u001b[0m \u001b[0;34m=\u001b[0m \u001b[0mget_src_permutation_idx\u001b[0m\u001b[0;34m(\u001b[0m\u001b[0mindices\u001b[0m\u001b[0;34m)\u001b[0m\u001b[0;34m\u001b[0m\u001b[0;34m\u001b[0m\u001b[0m\n\u001b[1;32m     53\u001b[0m \u001b[0;34m\u001b[0m\u001b[0m\n",
            "\u001b[0;32m/usr/local/lib/python3.11/dist-packages/torch/nn/modules/module.py\u001b[0m in \u001b[0;36m_wrapped_call_impl\u001b[0;34m(self, *args, **kwargs)\u001b[0m\n\u001b[1;32m   1734\u001b[0m             \u001b[0;32mreturn\u001b[0m \u001b[0mself\u001b[0m\u001b[0;34m.\u001b[0m\u001b[0m_compiled_call_impl\u001b[0m\u001b[0;34m(\u001b[0m\u001b[0;34m*\u001b[0m\u001b[0margs\u001b[0m\u001b[0;34m,\u001b[0m \u001b[0;34m**\u001b[0m\u001b[0mkwargs\u001b[0m\u001b[0;34m)\u001b[0m  \u001b[0;31m# type: ignore[misc]\u001b[0m\u001b[0;34m\u001b[0m\u001b[0;34m\u001b[0m\u001b[0m\n\u001b[1;32m   1735\u001b[0m         \u001b[0;32melse\u001b[0m\u001b[0;34m:\u001b[0m\u001b[0;34m\u001b[0m\u001b[0;34m\u001b[0m\u001b[0m\n\u001b[0;32m-> 1736\u001b[0;31m             \u001b[0;32mreturn\u001b[0m \u001b[0mself\u001b[0m\u001b[0;34m.\u001b[0m\u001b[0m_call_impl\u001b[0m\u001b[0;34m(\u001b[0m\u001b[0;34m*\u001b[0m\u001b[0margs\u001b[0m\u001b[0;34m,\u001b[0m \u001b[0;34m**\u001b[0m\u001b[0mkwargs\u001b[0m\u001b[0;34m)\u001b[0m\u001b[0;34m\u001b[0m\u001b[0;34m\u001b[0m\u001b[0m\n\u001b[0m\u001b[1;32m   1737\u001b[0m \u001b[0;34m\u001b[0m\u001b[0m\n\u001b[1;32m   1738\u001b[0m     \u001b[0;31m# torchrec tests the code consistency with the following code\u001b[0m\u001b[0;34m\u001b[0m\u001b[0;34m\u001b[0m\u001b[0m\n",
            "\u001b[0;32m/usr/local/lib/python3.11/dist-packages/torch/nn/modules/module.py\u001b[0m in \u001b[0;36m_call_impl\u001b[0;34m(self, *args, **kwargs)\u001b[0m\n\u001b[1;32m   1745\u001b[0m                 \u001b[0;32mor\u001b[0m \u001b[0m_global_backward_pre_hooks\u001b[0m \u001b[0;32mor\u001b[0m \u001b[0m_global_backward_hooks\u001b[0m\u001b[0;34m\u001b[0m\u001b[0;34m\u001b[0m\u001b[0m\n\u001b[1;32m   1746\u001b[0m                 or _global_forward_hooks or _global_forward_pre_hooks):\n\u001b[0;32m-> 1747\u001b[0;31m             \u001b[0;32mreturn\u001b[0m \u001b[0mforward_call\u001b[0m\u001b[0;34m(\u001b[0m\u001b[0;34m*\u001b[0m\u001b[0margs\u001b[0m\u001b[0;34m,\u001b[0m \u001b[0;34m**\u001b[0m\u001b[0mkwargs\u001b[0m\u001b[0;34m)\u001b[0m\u001b[0;34m\u001b[0m\u001b[0;34m\u001b[0m\u001b[0m\n\u001b[0m\u001b[1;32m   1748\u001b[0m \u001b[0;34m\u001b[0m\u001b[0m\n\u001b[1;32m   1749\u001b[0m         \u001b[0mresult\u001b[0m \u001b[0;34m=\u001b[0m \u001b[0;32mNone\u001b[0m\u001b[0;34m\u001b[0m\u001b[0;34m\u001b[0m\u001b[0m\n",
            "\u001b[0;32m/usr/local/lib/python3.11/dist-packages/torch/utils/_contextlib.py\u001b[0m in \u001b[0;36mdecorate_context\u001b[0;34m(*args, **kwargs)\u001b[0m\n\u001b[1;32m    114\u001b[0m     \u001b[0;32mdef\u001b[0m \u001b[0mdecorate_context\u001b[0m\u001b[0;34m(\u001b[0m\u001b[0;34m*\u001b[0m\u001b[0margs\u001b[0m\u001b[0;34m,\u001b[0m \u001b[0;34m**\u001b[0m\u001b[0mkwargs\u001b[0m\u001b[0;34m)\u001b[0m\u001b[0;34m:\u001b[0m\u001b[0;34m\u001b[0m\u001b[0;34m\u001b[0m\u001b[0m\n\u001b[1;32m    115\u001b[0m         \u001b[0;32mwith\u001b[0m \u001b[0mctx_factory\u001b[0m\u001b[0;34m(\u001b[0m\u001b[0;34m)\u001b[0m\u001b[0;34m:\u001b[0m\u001b[0;34m\u001b[0m\u001b[0;34m\u001b[0m\u001b[0m\n\u001b[0;32m--> 116\u001b[0;31m             \u001b[0;32mreturn\u001b[0m \u001b[0mfunc\u001b[0m\u001b[0;34m(\u001b[0m\u001b[0;34m*\u001b[0m\u001b[0margs\u001b[0m\u001b[0;34m,\u001b[0m \u001b[0;34m**\u001b[0m\u001b[0mkwargs\u001b[0m\u001b[0;34m)\u001b[0m\u001b[0;34m\u001b[0m\u001b[0;34m\u001b[0m\u001b[0m\n\u001b[0m\u001b[1;32m    117\u001b[0m \u001b[0;34m\u001b[0m\u001b[0m\n\u001b[1;32m    118\u001b[0m     \u001b[0;32mreturn\u001b[0m \u001b[0mdecorate_context\u001b[0m\u001b[0;34m\u001b[0m\u001b[0;34m\u001b[0m\u001b[0m\n",
            "\u001b[0;32m/content/object_detection_utils.py\u001b[0m in \u001b[0;36mforward\u001b[0;34m(self, outputs, targets)\u001b[0m\n\u001b[1;32m    156\u001b[0m         \u001b[0msizes\u001b[0m \u001b[0;34m=\u001b[0m \u001b[0;34m[\u001b[0m\u001b[0mlen\u001b[0m\u001b[0;34m(\u001b[0m\u001b[0mv\u001b[0m\u001b[0;34m[\u001b[0m\u001b[0;34m\"boxes\"\u001b[0m\u001b[0;34m]\u001b[0m\u001b[0;34m)\u001b[0m \u001b[0;32mfor\u001b[0m \u001b[0mv\u001b[0m \u001b[0;32min\u001b[0m \u001b[0mtargets\u001b[0m\u001b[0;34m]\u001b[0m\u001b[0;34m\u001b[0m\u001b[0;34m\u001b[0m\u001b[0m\n\u001b[1;32m    157\u001b[0m         \u001b[0mindices\u001b[0m \u001b[0;34m=\u001b[0m \u001b[0;34m[\u001b[0m\u001b[0mlinear_sum_assignment\u001b[0m\u001b[0;34m(\u001b[0m\u001b[0mc\u001b[0m\u001b[0;34m[\u001b[0m\u001b[0mi\u001b[0m\u001b[0;34m]\u001b[0m\u001b[0;34m)\u001b[0m \u001b[0;32mfor\u001b[0m \u001b[0mi\u001b[0m\u001b[0;34m,\u001b[0m \u001b[0mc\u001b[0m \u001b[0;32min\u001b[0m \u001b[0menumerate\u001b[0m\u001b[0;34m(\u001b[0m\u001b[0mC\u001b[0m\u001b[0;34m.\u001b[0m\u001b[0msplit\u001b[0m\u001b[0;34m(\u001b[0m\u001b[0msizes\u001b[0m\u001b[0;34m,\u001b[0m \u001b[0;34m-\u001b[0m\u001b[0;36m1\u001b[0m\u001b[0;34m)\u001b[0m\u001b[0;34m)\u001b[0m\u001b[0;34m]\u001b[0m\u001b[0;34m\u001b[0m\u001b[0;34m\u001b[0m\u001b[0m\n\u001b[0;32m--> 158\u001b[0;31m         return [\n\u001b[0m\u001b[1;32m    159\u001b[0m             \u001b[0;34m(\u001b[0m\u001b[0mtorch\u001b[0m\u001b[0;34m.\u001b[0m\u001b[0mas_tensor\u001b[0m\u001b[0;34m(\u001b[0m\u001b[0mi\u001b[0m\u001b[0;34m,\u001b[0m \u001b[0mdtype\u001b[0m\u001b[0;34m=\u001b[0m\u001b[0mtorch\u001b[0m\u001b[0;34m.\u001b[0m\u001b[0mint64\u001b[0m\u001b[0;34m)\u001b[0m\u001b[0;34m.\u001b[0m\u001b[0mto\u001b[0m\u001b[0;34m(\u001b[0m\u001b[0;34m\"cuda\"\u001b[0m\u001b[0;34m)\u001b[0m\u001b[0;34m,\u001b[0m \u001b[0mtorch\u001b[0m\u001b[0;34m.\u001b[0m\u001b[0mas_tensor\u001b[0m\u001b[0;34m(\u001b[0m\u001b[0mj\u001b[0m\u001b[0;34m,\u001b[0m \u001b[0mdtype\u001b[0m\u001b[0;34m=\u001b[0m\u001b[0mtorch\u001b[0m\u001b[0;34m.\u001b[0m\u001b[0mint64\u001b[0m\u001b[0;34m)\u001b[0m\u001b[0;34m.\u001b[0m\u001b[0mto\u001b[0m\u001b[0;34m(\u001b[0m\u001b[0;34m\"cuda\"\u001b[0m\u001b[0;34m)\u001b[0m\u001b[0;34m)\u001b[0m\u001b[0;34m\u001b[0m\u001b[0;34m\u001b[0m\u001b[0m\n\u001b[1;32m    160\u001b[0m             \u001b[0;32mfor\u001b[0m \u001b[0mi\u001b[0m\u001b[0;34m,\u001b[0m \u001b[0mj\u001b[0m \u001b[0;32min\u001b[0m \u001b[0mindices\u001b[0m\u001b[0;34m\u001b[0m\u001b[0;34m\u001b[0m\u001b[0m\n",
            "\u001b[0;32m/content/object_detection_utils.py\u001b[0m in \u001b[0;36m<listcomp>\u001b[0;34m(.0)\u001b[0m\n\u001b[1;32m    157\u001b[0m         \u001b[0mindices\u001b[0m \u001b[0;34m=\u001b[0m \u001b[0;34m[\u001b[0m\u001b[0mlinear_sum_assignment\u001b[0m\u001b[0;34m(\u001b[0m\u001b[0mc\u001b[0m\u001b[0;34m[\u001b[0m\u001b[0mi\u001b[0m\u001b[0;34m]\u001b[0m\u001b[0;34m)\u001b[0m \u001b[0;32mfor\u001b[0m \u001b[0mi\u001b[0m\u001b[0;34m,\u001b[0m \u001b[0mc\u001b[0m \u001b[0;32min\u001b[0m \u001b[0menumerate\u001b[0m\u001b[0;34m(\u001b[0m\u001b[0mC\u001b[0m\u001b[0;34m.\u001b[0m\u001b[0msplit\u001b[0m\u001b[0;34m(\u001b[0m\u001b[0msizes\u001b[0m\u001b[0;34m,\u001b[0m \u001b[0;34m-\u001b[0m\u001b[0;36m1\u001b[0m\u001b[0;34m)\u001b[0m\u001b[0;34m)\u001b[0m\u001b[0;34m]\u001b[0m\u001b[0;34m\u001b[0m\u001b[0;34m\u001b[0m\u001b[0m\n\u001b[1;32m    158\u001b[0m         return [\n\u001b[0;32m--> 159\u001b[0;31m             \u001b[0;34m(\u001b[0m\u001b[0mtorch\u001b[0m\u001b[0;34m.\u001b[0m\u001b[0mas_tensor\u001b[0m\u001b[0;34m(\u001b[0m\u001b[0mi\u001b[0m\u001b[0;34m,\u001b[0m \u001b[0mdtype\u001b[0m\u001b[0;34m=\u001b[0m\u001b[0mtorch\u001b[0m\u001b[0;34m.\u001b[0m\u001b[0mint64\u001b[0m\u001b[0;34m)\u001b[0m\u001b[0;34m.\u001b[0m\u001b[0mto\u001b[0m\u001b[0;34m(\u001b[0m\u001b[0;34m\"cuda\"\u001b[0m\u001b[0;34m)\u001b[0m\u001b[0;34m,\u001b[0m \u001b[0mtorch\u001b[0m\u001b[0;34m.\u001b[0m\u001b[0mas_tensor\u001b[0m\u001b[0;34m(\u001b[0m\u001b[0mj\u001b[0m\u001b[0;34m,\u001b[0m \u001b[0mdtype\u001b[0m\u001b[0;34m=\u001b[0m\u001b[0mtorch\u001b[0m\u001b[0;34m.\u001b[0m\u001b[0mint64\u001b[0m\u001b[0;34m)\u001b[0m\u001b[0;34m.\u001b[0m\u001b[0mto\u001b[0m\u001b[0;34m(\u001b[0m\u001b[0;34m\"cuda\"\u001b[0m\u001b[0;34m)\u001b[0m\u001b[0;34m)\u001b[0m\u001b[0;34m\u001b[0m\u001b[0;34m\u001b[0m\u001b[0m\n\u001b[0m\u001b[1;32m    160\u001b[0m             \u001b[0;32mfor\u001b[0m \u001b[0mi\u001b[0m\u001b[0;34m,\u001b[0m \u001b[0mj\u001b[0m \u001b[0;32min\u001b[0m \u001b[0mindices\u001b[0m\u001b[0;34m\u001b[0m\u001b[0;34m\u001b[0m\u001b[0m\n\u001b[1;32m    161\u001b[0m         ]\n",
            "\u001b[0;32m/usr/local/lib/python3.11/dist-packages/torch/cuda/__init__.py\u001b[0m in \u001b[0;36m_lazy_init\u001b[0;34m()\u001b[0m\n\u001b[1;32m    317\u001b[0m         \u001b[0;32mif\u001b[0m \u001b[0;34m\"CUDA_MODULE_LOADING\"\u001b[0m \u001b[0;32mnot\u001b[0m \u001b[0;32min\u001b[0m \u001b[0mos\u001b[0m\u001b[0;34m.\u001b[0m\u001b[0menviron\u001b[0m\u001b[0;34m:\u001b[0m\u001b[0;34m\u001b[0m\u001b[0;34m\u001b[0m\u001b[0m\n\u001b[1;32m    318\u001b[0m             \u001b[0mos\u001b[0m\u001b[0;34m.\u001b[0m\u001b[0menviron\u001b[0m\u001b[0;34m[\u001b[0m\u001b[0;34m\"CUDA_MODULE_LOADING\"\u001b[0m\u001b[0;34m]\u001b[0m \u001b[0;34m=\u001b[0m \u001b[0;34m\"LAZY\"\u001b[0m\u001b[0;34m\u001b[0m\u001b[0;34m\u001b[0m\u001b[0m\n\u001b[0;32m--> 319\u001b[0;31m         \u001b[0mtorch\u001b[0m\u001b[0;34m.\u001b[0m\u001b[0m_C\u001b[0m\u001b[0;34m.\u001b[0m\u001b[0m_cuda_init\u001b[0m\u001b[0;34m(\u001b[0m\u001b[0;34m)\u001b[0m\u001b[0;34m\u001b[0m\u001b[0;34m\u001b[0m\u001b[0m\n\u001b[0m\u001b[1;32m    320\u001b[0m         \u001b[0;31m# Some of the queued calls may reentrantly call _lazy_init();\u001b[0m\u001b[0;34m\u001b[0m\u001b[0;34m\u001b[0m\u001b[0m\n\u001b[1;32m    321\u001b[0m         \u001b[0;31m# we need to just return without initializing in that case.\u001b[0m\u001b[0;34m\u001b[0m\u001b[0;34m\u001b[0m\u001b[0m\n",
            "\u001b[0;31mRuntimeError\u001b[0m: Found no NVIDIA driver on your system. Please check that you have an NVIDIA GPU and installed a driver from http://www.nvidia.com/Download/index.aspx"
          ]
        },
        {
          "output_type": "display_data",
          "data": {
            "text/plain": [
              "<Figure size 350x250 with 1 Axes>"
            ],
            "image/svg+xml": "<?xml version=\"1.0\" encoding=\"utf-8\" standalone=\"no\"?>\n<!DOCTYPE svg PUBLIC \"-//W3C//DTD SVG 1.1//EN\"\n  \"http://www.w3.org/Graphics/SVG/1.1/DTD/svg11.dtd\">\n<svg xmlns:xlink=\"http://www.w3.org/1999/xlink\" width=\"240.554688pt\" height=\"173.477344pt\" viewBox=\"0 0 240.554688 173.477344\" xmlns=\"http://www.w3.org/2000/svg\" version=\"1.1\">\n <metadata>\n  <rdf:RDF xmlns:dc=\"http://purl.org/dc/elements/1.1/\" xmlns:cc=\"http://creativecommons.org/ns#\" xmlns:rdf=\"http://www.w3.org/1999/02/22-rdf-syntax-ns#\">\n   <cc:Work>\n    <dc:type rdf:resource=\"http://purl.org/dc/dcmitype/StillImage\"/>\n    <dc:date>2025-04-23T23:28:13.544416</dc:date>\n    <dc:format>image/svg+xml</dc:format>\n    <dc:creator>\n     <cc:Agent>\n      <dc:title>Matplotlib v3.7.2, https://matplotlib.org/</dc:title>\n     </cc:Agent>\n    </dc:creator>\n   </cc:Work>\n  </rdf:RDF>\n </metadata>\n <defs>\n  <style type=\"text/css\">*{stroke-linejoin: round; stroke-linecap: butt}</style>\n </defs>\n <g id=\"figure_1\">\n  <g id=\"patch_1\">\n   <path d=\"M 0 173.477344 \nL 240.554688 173.477344 \nL 240.554688 0 \nL 0 0 \nz\n\" style=\"fill: #ffffff\"/>\n  </g>\n  <g id=\"axes_1\">\n   <g id=\"patch_2\">\n    <path d=\"M 30.103125 149.599219 \nL 225.403125 149.599219 \nL 225.403125 10.999219 \nL 30.103125 10.999219 \nz\n\" style=\"fill: #ffffff\"/>\n   </g>\n   <g id=\"matplotlib.axis_1\">\n    <g id=\"xtick_1\">\n     <g id=\"line2d_1\">\n      <defs>\n       <path id=\"m63f3210f2f\" d=\"M 0 0 \nL 0 3.5 \n\" style=\"stroke: #000000; stroke-width: 0.8\"/>\n      </defs>\n      <g>\n       <use xlink:href=\"#m63f3210f2f\" x=\"30.103125\" y=\"149.599219\" style=\"stroke: #000000; stroke-width: 0.8\"/>\n      </g>\n     </g>\n     <g id=\"text_1\">\n      <!-- 0.0 -->\n      <g transform=\"translate(22.151563 164.197656) scale(0.1 -0.1)\">\n       <defs>\n        <path id=\"DejaVuSans-30\" d=\"M 2034 4250 \nQ 1547 4250 1301 3770 \nQ 1056 3291 1056 2328 \nQ 1056 1369 1301 889 \nQ 1547 409 2034 409 \nQ 2525 409 2770 889 \nQ 3016 1369 3016 2328 \nQ 3016 3291 2770 3770 \nQ 2525 4250 2034 4250 \nz\nM 2034 4750 \nQ 2819 4750 3233 4129 \nQ 3647 3509 3647 2328 \nQ 3647 1150 3233 529 \nQ 2819 -91 2034 -91 \nQ 1250 -91 836 529 \nQ 422 1150 422 2328 \nQ 422 3509 836 4129 \nQ 1250 4750 2034 4750 \nz\n\" transform=\"scale(0.015625)\"/>\n        <path id=\"DejaVuSans-2e\" d=\"M 684 794 \nL 1344 794 \nL 1344 0 \nL 684 0 \nL 684 794 \nz\n\" transform=\"scale(0.015625)\"/>\n       </defs>\n       <use xlink:href=\"#DejaVuSans-30\"/>\n       <use xlink:href=\"#DejaVuSans-2e\" x=\"63.623047\"/>\n       <use xlink:href=\"#DejaVuSans-30\" x=\"95.410156\"/>\n      </g>\n     </g>\n    </g>\n    <g id=\"xtick_2\">\n     <g id=\"line2d_2\">\n      <g>\n       <use xlink:href=\"#m63f3210f2f\" x=\"69.163125\" y=\"149.599219\" style=\"stroke: #000000; stroke-width: 0.8\"/>\n      </g>\n     </g>\n     <g id=\"text_2\">\n      <!-- 0.2 -->\n      <g transform=\"translate(61.211563 164.197656) scale(0.1 -0.1)\">\n       <defs>\n        <path id=\"DejaVuSans-32\" d=\"M 1228 531 \nL 3431 531 \nL 3431 0 \nL 469 0 \nL 469 531 \nQ 828 903 1448 1529 \nQ 2069 2156 2228 2338 \nQ 2531 2678 2651 2914 \nQ 2772 3150 2772 3378 \nQ 2772 3750 2511 3984 \nQ 2250 4219 1831 4219 \nQ 1534 4219 1204 4116 \nQ 875 4013 500 3803 \nL 500 4441 \nQ 881 4594 1212 4672 \nQ 1544 4750 1819 4750 \nQ 2544 4750 2975 4387 \nQ 3406 4025 3406 3419 \nQ 3406 3131 3298 2873 \nQ 3191 2616 2906 2266 \nQ 2828 2175 2409 1742 \nQ 1991 1309 1228 531 \nz\n\" transform=\"scale(0.015625)\"/>\n       </defs>\n       <use xlink:href=\"#DejaVuSans-30\"/>\n       <use xlink:href=\"#DejaVuSans-2e\" x=\"63.623047\"/>\n       <use xlink:href=\"#DejaVuSans-32\" x=\"95.410156\"/>\n      </g>\n     </g>\n    </g>\n    <g id=\"xtick_3\">\n     <g id=\"line2d_3\">\n      <g>\n       <use xlink:href=\"#m63f3210f2f\" x=\"108.223125\" y=\"149.599219\" style=\"stroke: #000000; stroke-width: 0.8\"/>\n      </g>\n     </g>\n     <g id=\"text_3\">\n      <!-- 0.4 -->\n      <g transform=\"translate(100.271563 164.197656) scale(0.1 -0.1)\">\n       <defs>\n        <path id=\"DejaVuSans-34\" d=\"M 2419 4116 \nL 825 1625 \nL 2419 1625 \nL 2419 4116 \nz\nM 2253 4666 \nL 3047 4666 \nL 3047 1625 \nL 3713 1625 \nL 3713 1100 \nL 3047 1100 \nL 3047 0 \nL 2419 0 \nL 2419 1100 \nL 313 1100 \nL 313 1709 \nL 2253 4666 \nz\n\" transform=\"scale(0.015625)\"/>\n       </defs>\n       <use xlink:href=\"#DejaVuSans-30\"/>\n       <use xlink:href=\"#DejaVuSans-2e\" x=\"63.623047\"/>\n       <use xlink:href=\"#DejaVuSans-34\" x=\"95.410156\"/>\n      </g>\n     </g>\n    </g>\n    <g id=\"xtick_4\">\n     <g id=\"line2d_4\">\n      <g>\n       <use xlink:href=\"#m63f3210f2f\" x=\"147.283125\" y=\"149.599219\" style=\"stroke: #000000; stroke-width: 0.8\"/>\n      </g>\n     </g>\n     <g id=\"text_4\">\n      <!-- 0.6 -->\n      <g transform=\"translate(139.331563 164.197656) scale(0.1 -0.1)\">\n       <defs>\n        <path id=\"DejaVuSans-36\" d=\"M 2113 2584 \nQ 1688 2584 1439 2293 \nQ 1191 2003 1191 1497 \nQ 1191 994 1439 701 \nQ 1688 409 2113 409 \nQ 2538 409 2786 701 \nQ 3034 994 3034 1497 \nQ 3034 2003 2786 2293 \nQ 2538 2584 2113 2584 \nz\nM 3366 4563 \nL 3366 3988 \nQ 3128 4100 2886 4159 \nQ 2644 4219 2406 4219 \nQ 1781 4219 1451 3797 \nQ 1122 3375 1075 2522 \nQ 1259 2794 1537 2939 \nQ 1816 3084 2150 3084 \nQ 2853 3084 3261 2657 \nQ 3669 2231 3669 1497 \nQ 3669 778 3244 343 \nQ 2819 -91 2113 -91 \nQ 1303 -91 875 529 \nQ 447 1150 447 2328 \nQ 447 3434 972 4092 \nQ 1497 4750 2381 4750 \nQ 2619 4750 2861 4703 \nQ 3103 4656 3366 4563 \nz\n\" transform=\"scale(0.015625)\"/>\n       </defs>\n       <use xlink:href=\"#DejaVuSans-30\"/>\n       <use xlink:href=\"#DejaVuSans-2e\" x=\"63.623047\"/>\n       <use xlink:href=\"#DejaVuSans-36\" x=\"95.410156\"/>\n      </g>\n     </g>\n    </g>\n    <g id=\"xtick_5\">\n     <g id=\"line2d_5\">\n      <g>\n       <use xlink:href=\"#m63f3210f2f\" x=\"186.343125\" y=\"149.599219\" style=\"stroke: #000000; stroke-width: 0.8\"/>\n      </g>\n     </g>\n     <g id=\"text_5\">\n      <!-- 0.8 -->\n      <g transform=\"translate(178.391563 164.197656) scale(0.1 -0.1)\">\n       <defs>\n        <path id=\"DejaVuSans-38\" d=\"M 2034 2216 \nQ 1584 2216 1326 1975 \nQ 1069 1734 1069 1313 \nQ 1069 891 1326 650 \nQ 1584 409 2034 409 \nQ 2484 409 2743 651 \nQ 3003 894 3003 1313 \nQ 3003 1734 2745 1975 \nQ 2488 2216 2034 2216 \nz\nM 1403 2484 \nQ 997 2584 770 2862 \nQ 544 3141 544 3541 \nQ 544 4100 942 4425 \nQ 1341 4750 2034 4750 \nQ 2731 4750 3128 4425 \nQ 3525 4100 3525 3541 \nQ 3525 3141 3298 2862 \nQ 3072 2584 2669 2484 \nQ 3125 2378 3379 2068 \nQ 3634 1759 3634 1313 \nQ 3634 634 3220 271 \nQ 2806 -91 2034 -91 \nQ 1263 -91 848 271 \nQ 434 634 434 1313 \nQ 434 1759 690 2068 \nQ 947 2378 1403 2484 \nz\nM 1172 3481 \nQ 1172 3119 1398 2916 \nQ 1625 2713 2034 2713 \nQ 2441 2713 2670 2916 \nQ 2900 3119 2900 3481 \nQ 2900 3844 2670 4047 \nQ 2441 4250 2034 4250 \nQ 1625 4250 1398 4047 \nQ 1172 3844 1172 3481 \nz\n\" transform=\"scale(0.015625)\"/>\n       </defs>\n       <use xlink:href=\"#DejaVuSans-30\"/>\n       <use xlink:href=\"#DejaVuSans-2e\" x=\"63.623047\"/>\n       <use xlink:href=\"#DejaVuSans-38\" x=\"95.410156\"/>\n      </g>\n     </g>\n    </g>\n    <g id=\"xtick_6\">\n     <g id=\"line2d_6\">\n      <g>\n       <use xlink:href=\"#m63f3210f2f\" x=\"225.403125\" y=\"149.599219\" style=\"stroke: #000000; stroke-width: 0.8\"/>\n      </g>\n     </g>\n     <g id=\"text_6\">\n      <!-- 1.0 -->\n      <g transform=\"translate(217.451563 164.197656) scale(0.1 -0.1)\">\n       <defs>\n        <path id=\"DejaVuSans-31\" d=\"M 794 531 \nL 1825 531 \nL 1825 4091 \nL 703 3866 \nL 703 4441 \nL 1819 4666 \nL 2450 4666 \nL 2450 531 \nL 3481 531 \nL 3481 0 \nL 794 0 \nL 794 531 \nz\n\" transform=\"scale(0.015625)\"/>\n       </defs>\n       <use xlink:href=\"#DejaVuSans-31\"/>\n       <use xlink:href=\"#DejaVuSans-2e\" x=\"63.623047\"/>\n       <use xlink:href=\"#DejaVuSans-30\" x=\"95.410156\"/>\n      </g>\n     </g>\n    </g>\n   </g>\n   <g id=\"matplotlib.axis_2\">\n    <g id=\"ytick_1\">\n     <g id=\"line2d_7\">\n      <defs>\n       <path id=\"mf082c3e7f3\" d=\"M 0 0 \nL -3.5 0 \n\" style=\"stroke: #000000; stroke-width: 0.8\"/>\n      </defs>\n      <g>\n       <use xlink:href=\"#mf082c3e7f3\" x=\"30.103125\" y=\"149.599219\" style=\"stroke: #000000; stroke-width: 0.8\"/>\n      </g>\n     </g>\n     <g id=\"text_7\">\n      <!-- 0.0 -->\n      <g transform=\"translate(7.2 153.398438) scale(0.1 -0.1)\">\n       <use xlink:href=\"#DejaVuSans-30\"/>\n       <use xlink:href=\"#DejaVuSans-2e\" x=\"63.623047\"/>\n       <use xlink:href=\"#DejaVuSans-30\" x=\"95.410156\"/>\n      </g>\n     </g>\n    </g>\n    <g id=\"ytick_2\">\n     <g id=\"line2d_8\">\n      <g>\n       <use xlink:href=\"#mf082c3e7f3\" x=\"30.103125\" y=\"121.879219\" style=\"stroke: #000000; stroke-width: 0.8\"/>\n      </g>\n     </g>\n     <g id=\"text_8\">\n      <!-- 0.2 -->\n      <g transform=\"translate(7.2 125.678438) scale(0.1 -0.1)\">\n       <use xlink:href=\"#DejaVuSans-30\"/>\n       <use xlink:href=\"#DejaVuSans-2e\" x=\"63.623047\"/>\n       <use xlink:href=\"#DejaVuSans-32\" x=\"95.410156\"/>\n      </g>\n     </g>\n    </g>\n    <g id=\"ytick_3\">\n     <g id=\"line2d_9\">\n      <g>\n       <use xlink:href=\"#mf082c3e7f3\" x=\"30.103125\" y=\"94.159219\" style=\"stroke: #000000; stroke-width: 0.8\"/>\n      </g>\n     </g>\n     <g id=\"text_9\">\n      <!-- 0.4 -->\n      <g transform=\"translate(7.2 97.958438) scale(0.1 -0.1)\">\n       <use xlink:href=\"#DejaVuSans-30\"/>\n       <use xlink:href=\"#DejaVuSans-2e\" x=\"63.623047\"/>\n       <use xlink:href=\"#DejaVuSans-34\" x=\"95.410156\"/>\n      </g>\n     </g>\n    </g>\n    <g id=\"ytick_4\">\n     <g id=\"line2d_10\">\n      <g>\n       <use xlink:href=\"#mf082c3e7f3\" x=\"30.103125\" y=\"66.439219\" style=\"stroke: #000000; stroke-width: 0.8\"/>\n      </g>\n     </g>\n     <g id=\"text_10\">\n      <!-- 0.6 -->\n      <g transform=\"translate(7.2 70.238438) scale(0.1 -0.1)\">\n       <use xlink:href=\"#DejaVuSans-30\"/>\n       <use xlink:href=\"#DejaVuSans-2e\" x=\"63.623047\"/>\n       <use xlink:href=\"#DejaVuSans-36\" x=\"95.410156\"/>\n      </g>\n     </g>\n    </g>\n    <g id=\"ytick_5\">\n     <g id=\"line2d_11\">\n      <g>\n       <use xlink:href=\"#mf082c3e7f3\" x=\"30.103125\" y=\"38.719219\" style=\"stroke: #000000; stroke-width: 0.8\"/>\n      </g>\n     </g>\n     <g id=\"text_11\">\n      <!-- 0.8 -->\n      <g transform=\"translate(7.2 42.518438) scale(0.1 -0.1)\">\n       <use xlink:href=\"#DejaVuSans-30\"/>\n       <use xlink:href=\"#DejaVuSans-2e\" x=\"63.623047\"/>\n       <use xlink:href=\"#DejaVuSans-38\" x=\"95.410156\"/>\n      </g>\n     </g>\n    </g>\n    <g id=\"ytick_6\">\n     <g id=\"line2d_12\">\n      <g>\n       <use xlink:href=\"#mf082c3e7f3\" x=\"30.103125\" y=\"10.999219\" style=\"stroke: #000000; stroke-width: 0.8\"/>\n      </g>\n     </g>\n     <g id=\"text_12\">\n      <!-- 1.0 -->\n      <g transform=\"translate(7.2 14.798438) scale(0.1 -0.1)\">\n       <use xlink:href=\"#DejaVuSans-31\"/>\n       <use xlink:href=\"#DejaVuSans-2e\" x=\"63.623047\"/>\n       <use xlink:href=\"#DejaVuSans-30\" x=\"95.410156\"/>\n      </g>\n     </g>\n    </g>\n   </g>\n   <g id=\"patch_3\">\n    <path d=\"M 30.103125 149.599219 \nL 30.103125 10.999219 \n\" style=\"fill: none; stroke: #000000; stroke-width: 0.8; stroke-linejoin: miter; stroke-linecap: square\"/>\n   </g>\n   <g id=\"patch_4\">\n    <path d=\"M 225.403125 149.599219 \nL 225.403125 10.999219 \n\" style=\"fill: none; stroke: #000000; stroke-width: 0.8; stroke-linejoin: miter; stroke-linecap: square\"/>\n   </g>\n   <g id=\"patch_5\">\n    <path d=\"M 30.103125 149.599219 \nL 225.403125 149.599219 \n\" style=\"fill: none; stroke: #000000; stroke-width: 0.8; stroke-linejoin: miter; stroke-linecap: square\"/>\n   </g>\n   <g id=\"patch_6\">\n    <path d=\"M 30.103125 10.999219 \nL 225.403125 10.999219 \n\" style=\"fill: none; stroke: #000000; stroke-width: 0.8; stroke-linejoin: miter; stroke-linecap: square\"/>\n   </g>\n  </g>\n </g>\n</svg>\n"
          },
          "metadata": {}
        }
      ]
    },
    {
      "cell_type": "code",
      "execution_count": null,
      "metadata": {
        "id": "I_ZnKeSkCVMp"
      },
      "outputs": [],
      "source": [
        "# Visualize some predictions\n",
        "nrows, ncols = 2, 5\n",
        "plt.figure(figsize=(15, 6))\n",
        "for i in range(nrows * ncols):\n",
        "    # Get a random image\n",
        "    img, _ = val_dataset[random.randint(0, len(val_dataset) - 1)]\n",
        "    # Get the predicted bboxes\n",
        "    boxes, scores, top_class = predict(model, img, n_classes=4, nms_threshold=0.5, conf_threshold=0.5)\n",
        "    # Plot it\n",
        "    plot_img = plot_bbox(ToPILImage()(img), boxes, top_class)\n",
        "    plt.subplot(nrows, ncols, i + 1)\n",
        "    plt.imshow(plot_img)\n",
        "plt.show()"
      ]
    },
    {
      "cell_type": "code",
      "execution_count": null,
      "metadata": {
        "id": "FypmyWp4CVMp"
      },
      "outputs": [],
      "source": [
        "# Visualize some predictions\n",
        "nrows, ncols = 2, 5\n",
        "plt.figure(figsize=(15, 6))\n",
        "for i in range(nrows * ncols):\n",
        "    # Get a random image\n",
        "    img, _ = val_dataset[i]\n",
        "    print(test_dataset.img_files[i])\n",
        "    # Get the predicted bboxes\n",
        "    boxes, scores, top_class = predict(model, img, n_classes=4, nms_threshold=0.5, conf_threshold=0.5)\n",
        "    # Plot it\n",
        "    plot_img = plot_bbox(ToPILImage()(img), boxes, top_class.numpy())\n",
        "    plt.subplot(nrows, ncols, i + 1)\n",
        "    plt.imshow(plot_img)\n",
        "plt.show()"
      ]
    },
    {
      "cell_type": "code",
      "execution_count": null,
      "metadata": {
        "id": "dW-J1YrRCVMp"
      },
      "outputs": [],
      "source": [
        "ap_calculator = APCalculator(train_loader)\n",
        "ap = ap_calculator.calculate_map(model, nms_threshold=0.5)\n",
        "\n",
        "print(f\"AP: {ap['map'].item():.4f}\")\n",
        "print(f\"AP@50: {ap['map_50'].item():.4f}\")\n",
        "print(f\"AP@75: {ap['map_75'].item():.4f}\")\n",
        "print(f\"AP (small): {ap['map_small'].item():.4f}\")\n",
        "print(f\"AP (medium): {ap['map_medium'].item():.4f}\")\n",
        "print(f\"AP (large): {ap['map_large'].item():.4f}\")\n",
        "print(f\"AR@1: {ap['mar_1'].item():.4f}\")\n",
        "print(f\"AR@10: {ap['mar_10'].item():.4f}\")\n",
        "print(f\"AR@100: {ap['mar_100'].item():.4f}\")\n",
        "print(f\"AR (small): {ap['mar_small'].item():.4f}\")\n",
        "print(f\"AR (medium): {ap['mar_medium'].item():.4f}\")\n",
        "print(f\"AR (large): {ap['mar_large'].item():.4f}\")\n",
        "print(f\"AP per class: {ap['map_per_class']}\")\n",
        "print(f\"AR@100 per class: {ap['mar_100_per_class']}\")\n",
        "print(f\"Classes: {ap['classes']}\")"
      ]
    },
    {
      "cell_type": "code",
      "execution_count": null,
      "metadata": {
        "id": "Ts1wbTaRCVMp"
      },
      "outputs": [],
      "source": [
        "ap_calculator = APCalculator(val_loader)\n",
        "ap = ap_calculator.calculate_map(model, nms_threshold=0.5)\n",
        "\n",
        "print(f\"AP: {ap['map'].item():.4f}\")\n",
        "print(f\"AP@50: {ap['map_50'].item():.4f}\")\n",
        "print(f\"AP@75: {ap['map_75'].item():.4f}\")\n",
        "print(f\"AP (small): {ap['map_small'].item():.4f}\")\n",
        "print(f\"AP (medium): {ap['map_medium'].item():.4f}\")\n",
        "print(f\"AP (large): {ap['map_large'].item():.4f}\")\n",
        "print(f\"AR@1: {ap['mar_1'].item():.4f}\")\n",
        "print(f\"AR@10: {ap['mar_10'].item():.4f}\")\n",
        "print(f\"AR@100: {ap['mar_100'].item():.4f}\")\n",
        "print(f\"AR (small): {ap['mar_small'].item():.4f}\")\n",
        "print(f\"AR (medium): {ap['mar_medium'].item():.4f}\")\n",
        "print(f\"AR (large): {ap['mar_large'].item():.4f}\")\n",
        "print(f\"AP per class: {ap['map_per_class']}\")\n",
        "print(f\"AR@100 per class: {ap['mar_100_per_class']}\")\n",
        "print(f\"Classes: {ap['classes']}\")"
      ]
    },
    {
      "cell_type": "code",
      "execution_count": null,
      "metadata": {
        "id": "TlSeqEk_CVMq"
      },
      "outputs": [],
      "source": [
        "# You can place this in a new file or in your notebook after training\n",
        "import torch\n",
        "import torchvision\n",
        "import os\n",
        "from PIL import Image\n",
        "from object_detection_utils import box_xywh_to_xyxy, box_cxcywh_to_xyxy\n",
        "\n",
        "\n",
        "def predict_test_set(model, test_dataset, output_txt_path, score_threshold=0.3, nms_threshold=0.3):\n",
        "    \"\"\"\n",
        "    Predict bounding boxes for all images in the test dataset and save to a text file:\n",
        "      file_name, cx, cy, w, h, label, score\n",
        "    \"\"\"\n",
        "    model.eval()\n",
        "    device = torch.device(\"cuda\" if torch.cuda.is_available() else \"cpu\")\n",
        "    model.to(device)\n",
        "\n",
        "    with open(output_txt_path, \"w\") as out_file:\n",
        "        for i in range(len(test_dataset)):\n",
        "            # Load data\n",
        "            img_path = test_dataset.img_files[i]\n",
        "            img_id = test_dataset.images[i][\"id\"]\n",
        "            # Just to get the original PIL image without transforms\n",
        "            pil_img = Image.open(img_path).convert(\"RGB\")\n",
        "            tensor_img = torchvision.transforms.ToTensor()(pil_img).to(device)\n",
        "\n",
        "            boxes, scores, top_class = predict(model, torchvision.transforms.functional.resize(tensor_img, (img_size, img_size)), n_classes=4, nms_threshold=nms_threshold, conf_threshold=score_threshold)\n",
        "\n",
        "            # Write results\n",
        "            file_name = os.path.basename(img_path)\n",
        "            for box, lbl, sc in zip(boxes, top_class, scores):\n",
        "                box = box / img_size\n",
        "                cx, cy, w, h = box.tolist()\n",
        "                out_file.write(f\"{file_name}, {cx}, {cy}, {w}, {h}, {lbl.item()+1}, {sc.item()}\\n\")\n",
        "\n",
        "    print(f\"Predictions saved to {output_txt_path}\")\n",
        "\n",
        "predict_test_set(model, test_dataset, \"predictions_one_stage.txt\", score_threshold=0.1, nms_threshold=0.5)"
      ]
    },
    {
      "cell_type": "code",
      "execution_count": null,
      "metadata": {
        "id": "I7dKu-srCVMq"
      },
      "outputs": [],
      "source": [
        "from object_detection_utils import FileBasedAPCalculator\n",
        "\n",
        "ap_calculator = FileBasedAPCalculator(\n",
        "                        \"/workspaces/deep-learning-course-grs34806/project/challenge/reference.txt\",\n",
        "                        \"predictions_one_stage.txt\",\n",
        "                    )\n",
        "ap_calculator.calculate_map()"
      ]
    },
    {
      "cell_type": "code",
      "execution_count": null,
      "metadata": {
        "id": "936_9wXuCVMq"
      },
      "outputs": [],
      "source": [
        "# Visualize some predictions\n",
        "\n",
        "# Get a random image\n",
        "img, _ = val_dataset[9]\n",
        "# Get the predicted bboxes\n",
        "boxes, scores, top_class = predict(model, img, n_classes=4, nms_threshold=0.5, conf_threshold=0.5)\n",
        "\n",
        "ToPILImage()(img).save(\"input.jpg\")\n",
        "plot_img = plot_bbox(ToPILImage()(img), boxes, top_class.numpy())\n",
        "plot_img.show()\n",
        "plot_img.save(\"output_one_stage.jpg\")\n"
      ]
    },
    {
      "cell_type": "code",
      "execution_count": null,
      "metadata": {
        "id": "RxVI7l5lCVMq"
      },
      "outputs": [],
      "source": [
        "class TestImageDataset(Dataset):\n",
        "    def __init__(self, img_dir, transform=None):\n",
        "        self.img_dir = img_dir\n",
        "        self.img_files = sorted([os.path.join(img_dir, f)\n",
        "                                 for f in os.listdir(img_dir) if f.lower().endswith(('jpg', 'jpeg', 'png'))])\n",
        "        self.transform = transform\n",
        "        self.images = [{\"id\": i} for i in range(len(self.img_files))]  # dummy ids\n",
        "\n",
        "    def __len__(self):\n",
        "        return len(self.img_files)\n",
        "\n",
        "    def __getitem__(self, idx):\n",
        "        img_path = self.img_files[idx]\n",
        "        image = Image.open(img_path).convert(\"RGB\")\n",
        "        if self.transform:\n",
        "            image = self.transform(image)\n",
        "        return image, 0  # dummy label\n",
        "def predict_test_set_two_stages(model, test_dataset, output_txt_path, classifier_model, score_threshold=0.3, nms_threshold=0.3):\n",
        "    \"\"\"\n",
        "    Predict bounding boxes for all images in the test dataset and use finetune_net to classify the boxes.\n",
        "    Saves results to a text file: file_name, cx, cy, w, h, label, score\n",
        "    \"\"\"\n",
        "    model.eval()\n",
        "    classifier_model.eval()\n",
        "    device = torch.device(\"cuda\" if torch.cuda.is_available() else \"cpu\")\n",
        "    model.to(device)\n",
        "    classifier_model.to(device)\n",
        "\n",
        "    # For processing classifier inputs\n",
        "    val_transform = torchvision.transforms.Compose([\n",
        "        torchvision.transforms.Resize(256),\n",
        "        torchvision.transforms.CenterCrop(224),\n",
        "        torchvision.transforms.ToTensor(),\n",
        "        normalize\n",
        "    ])\n",
        "\n",
        "    with open(output_txt_path, \"w\") as out_file:\n",
        "        for i in range(len(test_dataset)):\n",
        "            # Load data\n",
        "            img, _ = test_dataset[i]\n",
        "            img_path = test_dataset.img_files[i]\n",
        "            img_id = test_dataset.images[i][\"id\"]\n",
        "            # Load original image without transforms\n",
        "            pil_img = Image.open(img_path).convert(\"RGB\")\n",
        "            pil_img = pil_img.resize((img_size, img_size))\n",
        "\n",
        "            # Detect boxes\n",
        "            boxes, scores, _ = predict(model, img,\n",
        "                                     n_classes=1, nms_threshold=nms_threshold, conf_threshold=score_threshold)\n",
        "            print(img_path, boxes, scores)\n",
        "            if len(boxes) > 0:\n",
        "                # Convert boxes to original image coordinates\n",
        "                boxes_orig = boxes.clone() / img_size  # Normalize to 0-1 range\n",
        "\n",
        "                # Extract each detected object and classify it\n",
        "                file_name = os.path.basename(img_path)\n",
        "                for j, (box, sc) in enumerate(zip(boxes, scores)):\n",
        "                    # Convert box from [cx, cy, w, h] format to [x1, y1, x2, y2]\n",
        "                    cx, cy, w, h = box.tolist()\n",
        "                    x1 = max(0, int((cx - w/2)))\n",
        "                    y1 = max(0, int((cy - h/2)))\n",
        "                    x2 = min(img_size, int((cx + w/2)))\n",
        "                    y2 = min(img_size, int((cy + h/2)))\n",
        "\n",
        "                    # Crop the region from the image\n",
        "                    crop = pil_img.crop((x1, y1, x2, y2))\n",
        "\n",
        "                    # Preprocess crop for classification\n",
        "                    crop_tensor = val_transform(crop).unsqueeze(0).to(device)\n",
        "\n",
        "                    # Get classification\n",
        "                    with torch.no_grad():\n",
        "                        class_output = classifier_model(crop_tensor)\n",
        "                        class_id = torch.argmax(class_output, dim=1).item()\n",
        "                    print(class_id)\n",
        "                    # Write to file\n",
        "                    box_norm = boxes_orig[j]\n",
        "                    cx, cy, w, h = box_norm.tolist()\n",
        "                    out_file.write(f\"{file_name}, {cx}, {cy}, {w}, {h}, {class_id + 1}, {sc}\\n\")\n",
        "            else:\n",
        "                # No detections for this image\n",
        "                file_name = os.path.basename(img_path)\n",
        "                # out_file.write(f\"{file_name}, 0, 0, 0, 0, 0, 0\\n\")  # Write empty detection\n",
        "\n",
        "    print(f\"Two-stage predictions saved to {output_txt_path}\")\n",
        "\n"
      ]
    },
    {
      "cell_type": "code",
      "source": [
        "predict_test_set_two_stages(\n",
        "    model,\n",
        "    test_dataset,\n",
        "    \"predictions_two_stage.txt\",\n",
        "    finetune_net,  # your classifier\n",
        "    score_threshold=0.5,\n",
        "    nms_threshold=0.5,\n",
        "    img_size=img_size  # Make sure this gets passed if you updated the function\n",
        ")"
      ],
      "metadata": {
        "id": "Xwq7u7hhrl0H"
      },
      "execution_count": null,
      "outputs": []
    }
  ],
  "metadata": {
    "colab": {
      "provenance": [],
      "include_colab_link": true
    },
    "kernelspec": {
      "display_name": "Python 3",
      "name": "python3"
    },
    "language_info": {
      "codemirror_mode": {
        "name": "ipython",
        "version": 3
      },
      "file_extension": ".py",
      "mimetype": "text/x-python",
      "name": "python",
      "nbconvert_exporter": "python",
      "pygments_lexer": "ipython3",
      "version": "3.11.10"
    }
  },
  "nbformat": 4,
  "nbformat_minor": 0
}